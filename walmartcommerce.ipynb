{
 "cells": [
  {
   "cell_type": "code",
   "execution_count": null,
   "metadata": {},
   "outputs": [
    {
     "name": "stdout",
     "output_type": "stream",
     "text": [
      "<bound method NDFrame.head of     invoice_id;\"branch\";\"city\";\"customer_type\";\"gender\";\"product_line\";\"unit_price\";\"quantity\";\"vat\";\"total\";\"dtme\";\"tme\";\"payment_method\";\"cogs\";\"gross_margin_pct\";\"gross_income\";\"rating\";\"time_of_day\";\"day_name\";\"month_name\"\n",
      "0    750-67-8428;\"A\";\"Yangon\";\"Member\";\"Female\";\"He...                                                                                                                                                                            \n",
      "1    226-31-3081;\"C\";\"Naypyitaw\";\"Normal\";\"Female\";...                                                                                                                                                                            \n",
      "2    631-41-3108;\"A\";\"Yangon\";\"Normal\";\"Male\";\"Home...                                                                                                                                                                            \n",
      "3    123-19-1176;\"A\";\"Yangon\";\"Member\";\"Male\";\"Heal...                                                                                                                                                                            \n",
      "4    373-73-7910;\"A\";\"Yangon\";\"Normal\";\"Male\";\"Spor...                                                                                                                                                                            \n",
      "..                                                 ...                                                                                                                                                                            \n",
      "995  233-67-5758;\"C\";\"Naypyitaw\";\"Normal\";\"Male\";\"H...                                                                                                                                                                            \n",
      "996  303-96-2227;\"B\";\"Mandalay\";\"Normal\";\"Female\";\"...                                                                                                                                                                            \n",
      "997  727-02-1313;\"A\";\"Yangon\";\"Member\";\"Male\";\"Food...                                                                                                                                                                            \n",
      "998  347-56-2442;\"A\";\"Yangon\";\"Normal\";\"Male\";\"Home...                                                                                                                                                                            \n",
      "999  849-09-3807;\"A\";\"Yangon\";\"Member\";\"Female\";\"Fa...                                                                                                                                                                            \n",
      "\n",
      "[1000 rows x 1 columns]>\n"
     ]
    }
   ],
   "source": [
    "#import our libraries\n",
    "import pandas as pd\n",
    "import matplotlib.pyplot as plt\n",
    "\n",
    "df = pd.read_csv('walmartdata.csv', delimiter=';',quotechar='\"')\n",
    "\n",
    "print(df.head)\n"
   ]
  },
  {
   "cell_type": "code",
   "execution_count": 3,
   "metadata": {},
   "outputs": [
    {
     "name": "stdout",
     "output_type": "stream",
     "text": [
      "Index(['invoice_id;\"branch\";\"city\";\"customer_type\";\"gender\";\"product_line\";\"unit_price\";\"quantity\";\"vat\";\"total\";\"dtme\";\"tme\";\"payment_method\";\"cogs\";\"gross_margin_pct\";\"gross_income\";\"rating\";\"time_of_day\";\"day_name\";\"month_name\"'], dtype='object')\n"
     ]
    }
   ],
   "source": [
    "print(df.columns)"
   ]
  },
  {
   "cell_type": "code",
   "execution_count": 2,
   "metadata": {},
   "outputs": [
    {
     "name": "stdout",
     "output_type": "stream",
     "text": [
      "Column 'customer_type' not found in the data.\n"
     ]
    }
   ],
   "source": [
    "if 'customer_type' in df.columns:\n",
    "    #Create the bar plot\n",
    "    plt.figure(figsize=(10,6))\n",
    "    #Grouping data by 'customer_type' and summing their totals at the end\n",
    "    df.groupby('customer_type')['total'].sum().plot(kind='bar', color='skyblue')\n",
    "    #add titles and labels\n",
    "    plt.title('Total Sales by Customer Type')\n",
    "    plt.xlabel('Customer Type')\n",
    "    plt.ylabel('Total Sales')\n",
    "    plt.show()\n",
    "else:\n",
    "    print(\"Column 'customer_type' not found in the data.\")\n",
    "    "
   ]
  }
 ],
 "metadata": {
  "kernelspec": {
   "display_name": "base",
   "language": "python",
   "name": "python3"
  },
  "language_info": {
   "codemirror_mode": {
    "name": "ipython",
    "version": 3
   },
   "file_extension": ".py",
   "mimetype": "text/x-python",
   "name": "python",
   "nbconvert_exporter": "python",
   "pygments_lexer": "ipython3",
   "version": "3.11.5"
  }
 },
 "nbformat": 4,
 "nbformat_minor": 2
}
